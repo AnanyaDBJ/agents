{
 "cells": [
  {
   "cell_type": "code",
   "execution_count": 0,
   "metadata": {
    "application/vnd.databricks.v1+cell": {
     "cellMetadata": {
      "byteLimit": 2048000,
      "rowLimit": 10000
     },
     "inputWidgets": {},
     "nuid": "e81c5002-3643-4570-8ce0-29ba4cfbd845",
     "showTitle": false,
     "tableResultSettingsMap": {},
     "title": ""
    }
   },
   "outputs": [],
   "source": [
    "%pip install -U langgraph==0.2.57 langchain_community  langchain_experimental databricks-sdk databricks-langchain mlflow databricks-agents>=0.12.0 pydantic \n",
    "dbutils.library.restartPython()"
   ]
  },
  {
   "cell_type": "code",
   "execution_count": 0,
   "metadata": {
    "application/vnd.databricks.v1+cell": {
     "cellMetadata": {
      "byteLimit": 2048000,
      "rowLimit": 10000
     },
     "inputWidgets": {},
     "nuid": "5b534497-98ac-462f-af5a-b69b346dcc20",
     "showTitle": false,
     "tableResultSettingsMap": {},
     "title": ""
    }
   },
   "outputs": [],
   "source": [
    "# Log the model to MLflow\n",
    "import os\n",
    "import mlflow\n",
    "from mlflow.models.signature import ModelSignature\n",
    "from mlflow.types.llm import CHAT_MODEL_INPUT_SCHEMA, CHAT_MODEL_OUTPUT_SCHEMA\n",
    "\n",
    "agent_signature = ModelSignature(\n",
    "    CHAT_MODEL_INPUT_SCHEMA,\n",
    "    CHAT_MODEL_OUTPUT_SCHEMA,\n",
    ")"
   ]
  },
  {
   "cell_type": "code",
   "execution_count": 0,
   "metadata": {
    "application/vnd.databricks.v1+cell": {
     "cellMetadata": {
      "byteLimit": 2048000,
      "rowLimit": 10000
     },
     "inputWidgets": {},
     "nuid": "a9a0baf4-404e-4b68-accc-54ec88683bb6",
     "showTitle": false,
     "tableResultSettingsMap": {},
     "title": ""
    }
   },
   "outputs": [],
   "source": [
    "with mlflow.start_run():\n",
    "    logged_agent_info = mlflow.langchain.log_model(\n",
    "        lc_model=os.path.join(\n",
    "            os.getcwd(),\n",
    "            \"02_Multi_Agent_LangGraph_Flow.py\",\n",
    "        ),\n",
    "        pip_requirements=[\n",
    "            \"langchain\",\n",
    "            \"langgraph==0.2.57\", \n",
    "            \"databricks-agents>=0.12.0\",\n",
    "            \"pydantic\",\n",
    "            \"databricks-langchain\",\n",
    "            \"langchain_community\",\n",
    "            \"langchain_experimental\",\n",
    "            \"databricks-sdk\"\n",
    "        ],\n",
    "        artifact_path=\"agent\",\n",
    "        # input_example=input_example,\n",
    "        signature=agent_signature\n",
    "    )"
   ]
  },
  {
   "cell_type": "code",
   "execution_count": 0,
   "metadata": {
    "application/vnd.databricks.v1+cell": {
     "cellMetadata": {
      "byteLimit": 2048000,
      "rowLimit": 10000
     },
     "inputWidgets": {},
     "nuid": "1b38f4a2-f8e3-477c-a545-a25fe52403e3",
     "showTitle": false,
     "tableResultSettingsMap": {},
     "title": ""
    }
   },
   "outputs": [],
   "source": [
    "# Test the chain locally\n",
    "logged_agent = mlflow.langchain.load_model(logged_agent_info.model_uri)\n",
    "# chain.invoke(messages_dict)"
   ]
  },
  {
   "cell_type": "code",
   "execution_count": 0,
   "metadata": {
    "application/vnd.databricks.v1+cell": {
     "cellMetadata": {
      "byteLimit": 2048000,
      "rowLimit": 10000
     },
     "inputWidgets": {},
     "nuid": "f40be3b2-89d0-42ce-b479-6cf718e7eb73",
     "showTitle": false,
     "tableResultSettingsMap": {},
     "title": ""
    }
   },
   "outputs": [],
   "source": [
    "input_example = {\n",
    "        \"messages\": [\n",
    "            {\n",
    "                \"role\": \"user\",\n",
    "                \"content\": \"When did I place the order ORD974?\",\n",
    "            }\n",
    "        ]\n",
    "    }\n",
    "response = logged_agent.invoke(input_example)\n",
    "print(type(response))"
   ]
  },
  {
   "cell_type": "code",
   "execution_count": 0,
   "metadata": {
    "application/vnd.databricks.v1+cell": {
     "cellMetadata": {
      "byteLimit": 2048000,
      "rowLimit": 10000
     },
     "inputWidgets": {},
     "nuid": "0d9ebb7c-e496-4442-8b35-2aa01dc795f8",
     "showTitle": false,
     "tableResultSettingsMap": {},
     "title": ""
    }
   },
   "outputs": [],
   "source": [
    "from databricks import agents\n",
    "import mlflow \n",
    "\n",
    "mlflow.set_registry_uri(\"databricks-uc\")\n",
    "\n",
    "# TODO: define the catalog, schema, and model name for your UC model\n",
    "catalog = \"mosaic_agent\"\n",
    "schema = \"online_electric_retailer\"\n",
    "model_name = \"blog_langgraph\"\n",
    "UC_MODEL_NAME = f\"{catalog}.{schema}.{model_name}\"\n",
    "\n",
    "# register the model to UC\n",
    "uc_registered_model_info = mlflow.register_model(model_uri=logged_agent_info.model_uri, name=UC_MODEL_NAME)\n",
    "\n",
    "\n",
    "# Get the Databricks host\n",
    "host = dbutils.notebook.entry_point.getDbutils().notebook().getContext().apiUrl().get()\n",
    "token = dbutils.notebook.entry_point.getDbutils().notebook().getContext().apiToken().get()\n",
    "\n",
    "# Deploy the model to the review app and a model serving endpoint\n",
    "agents.deploy(UC_MODEL_NAME, uc_registered_model_info.version,\n",
    "              environment_vars={\n",
    "                \"DATABRICKS_TOKEN\": token,\n",
    "                \"DATABRICKS_HOST\": host },\n",
    "                tags={\"endpointSource\": \"playground\"}\n",
    "              )\n"
   ]
  },
  {
   "cell_type": "code",
   "execution_count": 0,
   "metadata": {
    "application/vnd.databricks.v1+cell": {
     "cellMetadata": {},
     "inputWidgets": {},
     "nuid": "ca645574-09ff-429c-9c5d-0f7f0dc6d80d",
     "showTitle": false,
     "tableResultSettingsMap": {},
     "title": ""
    }
   },
   "outputs": [],
   "source": []
  }
 ],
 "metadata": {
  "application/vnd.databricks.v1+notebook": {
   "computePreferences": null,
   "dashboards": [],
   "environmentMetadata": {
    "base_environment": "",
    "environment_version": "1"
   },
   "language": "python",
   "notebookMetadata": {
    "pythonIndentUnit": 2
   },
   "notebookName": "03_Multi_Agent_LangGraph_Driver",
   "widgets": {}
  },
  "language_info": {
   "name": "python"
  }
 },
 "nbformat": 4,
 "nbformat_minor": 0
}
